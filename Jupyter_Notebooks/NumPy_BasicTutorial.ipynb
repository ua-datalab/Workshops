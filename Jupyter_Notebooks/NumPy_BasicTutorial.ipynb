{
  "nbformat": 4,
  "nbformat_minor": 0,
  "metadata": {
    "colab": {
      "name": "NumPy_BasicTutorial",
      "provenance": [],
      "include_colab_link": true
    },
    "kernelspec": {
      "name": "python3",
      "display_name": "Python 3"
    },
    "language_info": {
      "name": "python"
    }
  },
  "cells": [
    {
      "cell_type": "markdown",
      "metadata": {
        "id": "view-in-github",
        "colab_type": "text"
      },
      "source": [
        "<a href=\"https://colab.research.google.com/github/ua-datalab/Workshops/blob/main/Jupyter_Notebooks/NumPy_BasicTutorial.ipynb\" target=\"_parent\"><img src=\"https://colab.research.google.com/assets/colab-badge.svg\" alt=\"Open In Colab\"/></a>"
      ]
    },
    {
      "cell_type": "markdown",
      "source": [
        "<img src=\"https://numpy.org/devdocs/_static/numpylogo.svg\">\n",
        "\n",
        "# This is a very basic Numpy Tutorial\n",
        "In Python the [Numpy Library](https://numpy.org/devdocs/user/index.html), is used in mathematical, scientific, engineering, and data science programming.\n",
        "\n",
        "Numpy has a selection fo special libraries for: Linear Algebra and Matrix Algebra, Statistics, Fast Fourier Transforms, among others.\n",
        "\n"
      ],
      "metadata": {
        "id": "1iapK5t5RJdQ"
      }
    },
    {
      "cell_type": "code",
      "source": [
        "# Load into memory all libraries to be used\n",
        "# We import NumPy and use np as a reference to it.\n",
        "# Also the graphics library Matplotlib is loaded, and plt as a reference.\n",
        "import numpy as np\n",
        "import matplotlib.pyplot as plt\n",
        "\n",
        "# Use SHIFT+ENTER to process input cell\n"
      ],
      "metadata": {
        "id": "dVAxIYPFNPdg"
      },
      "execution_count": null,
      "outputs": []
    },
    {
      "cell_type": "markdown",
      "source": [
        "# Use of elementary mathematical functions."
      ],
      "metadata": {
        "id": "gFayHO3jpyrT"
      }
    },
    {
      "cell_type": "markdown",
      "source": [
        "Example of use of trigonometric functions:\n",
        "$\\sin(x)$, $\\cos(x)$, $\\tan(x)$,...\n",
        "The number $\\pi$ is defined in numpy.\n",
        "\n",
        "Also $x$ will be defined as an array of values: $0, \\pi/4, \\pi/2, 3 \\pi/4, \\pi$\n",
        "\n",
        "(**Note**: Jupyter Notebooks accepts LaTEX mathematical notation)\n"
      ],
      "metadata": {
        "id": "7uAs0H_mUnDX"
      }
    },
    {
      "cell_type": "code",
      "source": [
        "# x is an array of 5 points,\n",
        "x = np.array([0, np.pi/4, np.pi/2, 3*np.pi/4, np.pi])\n",
        "y = np.sin(x)\n",
        "print('x=', x, '\\n', 'y=', y)\n",
        "# the \\n is newline printing command"
      ],
      "metadata": {
        "colab": {
          "base_uri": "https://localhost:8080/"
        },
        "id": "MoYXVoYGSs0P",
        "outputId": "e6dd90ac-614f-482b-d4d4-d99ec566f036"
      },
      "execution_count": null,
      "outputs": [
        {
          "output_type": "stream",
          "name": "stdout",
          "text": [
            "x= [0.         0.78539816 1.57079633 2.35619449 3.14159265] \n",
            " y= [0.00000000e+00 7.07106781e-01 1.00000000e+00 7.07106781e-01\n",
            " 1.22464680e-16]\n"
          ]
        }
      ]
    },
    {
      "cell_type": "code",
      "source": [
        "# We use the following code to plot this function with a grid\n",
        "# We don't need to understad all the code at this point.\n",
        "\n",
        "fig, ax = plt.subplots()\n",
        "ax.plot(x, y)\n",
        "\n",
        "ax.set(xlabel='x', ylabel='y',\n",
        "       title='A simple $\\sin(x)$ plot')\n",
        "ax.grid()\n",
        "\n",
        "#fig.savefig(\"test.png\")\n",
        "plt.show()\n"
      ],
      "metadata": {
        "colab": {
          "base_uri": "https://localhost:8080/",
          "height": 296
        },
        "id": "6UjwlurqTSSd",
        "outputId": "99bebb7e-5a52-45d2-9a03-aa722d259906"
      },
      "execution_count": null,
      "outputs": [
        {
          "output_type": "display_data",
          "data": {
            "image/png": "[encoded data removed]",
            "text/plain": [
              "<Figure size 432x288 with 1 Axes>"
            ]
          },
          "metadata": {
            "needs_background": "light"
          }
        }
      ]
    },
    {
      "cell_type": "markdown",
      "source": [
        "Not a beautiful plot. The *x* array has only 5 points.\n",
        "So we use the *np.arange* function.\n",
        "\n",
        "*numpy.arange(start, stop, step)*.\n",
        "\n",
        "**Note:** The arange does not include last point.\n"
      ],
      "metadata": {
        "id": "HoBOka9ta0aM"
      }
    },
    {
      "cell_type": "code",
      "source": [
        "# Redefine the x array with 20 points, therefore we recompute y.\n",
        "x=np.arange(0, np.pi, np.pi/20)\n",
        "y = np.sin(x)\n",
        "x"
      ],
      "metadata": {
        "colab": {
          "base_uri": "https://localhost:8080/"
        },
        "id": "zDZNh1Fraj6A",
        "outputId": "57587349-c93a-4b98-93cf-9e026b692a12"
      },
      "execution_count": null,
      "outputs": [
        {
          "output_type": "execute_result",
          "data": {
            "text/plain": [
              "array([0.        , 0.15707963, 0.31415927, 0.4712389 , 0.62831853,\n",
              "       0.78539816, 0.9424778 , 1.09955743, 1.25663706, 1.41371669,\n",
              "       1.57079633, 1.72787596, 1.88495559, 2.04203522, 2.19911486,\n",
              "       2.35619449, 2.51327412, 2.67035376, 2.82743339, 2.98451302])"
            ]
          },
          "metadata": {},
          "execution_count": 4
        }
      ]
    },
    {
      "cell_type": "code",
      "source": [
        "# We reuse the plotting code\n",
        "# We use the following code to plot this function\n",
        "# We don't need to understad all the code at this point.\n",
        "\n",
        "fig, ax = plt.subplots()\n",
        "ax.plot(x, y)\n",
        "\n",
        "ax.set(xlabel='x', ylabel='y',\n",
        "       title='A more refined $\\sin(x)$ plot')\n",
        "ax.grid()\n",
        "\n",
        "#fig.savefig(\"test.png\")\n",
        "plt.show()\n"
      ],
      "metadata": {
        "colab": {
          "base_uri": "https://localhost:8080/",
          "height": 296
        },
        "id": "3u4aX_Bqb6hT",
        "outputId": "f3c2e55f-5750-4abf-9640-acfed21ff8d6"
      },
      "execution_count": null,
      "outputs": [
        {
          "output_type": "display_data",
          "data": {
            "image/png": "[encoded data removed]",
            "text/plain": [
              "<Figure size 432x288 with 1 Axes>"
            ]
          },
          "metadata": {
            "needs_background": "light"
          }
        }
      ]
    },
    {
      "cell_type": "markdown",
      "source": [
        "If we want to include the endpoint in the *x* array, there is another function\n",
        "\n",
        "*numpy.linspace(start, stop, num, endpoint)*\n",
        "\n"
      ],
      "metadata": {
        "id": "vVEe2fYWeRt4"
      }
    },
    {
      "cell_type": "code",
      "source": [
        "# Redefine the x array with 20 points, therefore we recompute y.\n",
        "# A second function z=cos(2x) is added\n",
        "x=np.linspace(0, np.pi, num=20, endpoint=True)\n",
        "y = np.sin(x)\n",
        "z = np.cos(2*x)\n",
        "x\n"
      ],
      "metadata": {
        "colab": {
          "base_uri": "https://localhost:8080/"
        },
        "id": "OKePthMYcIZB",
        "outputId": "c3c9de84-b5af-4a96-caf9-7a4ba05fb797"
      },
      "execution_count": null,
      "outputs": [
        {
          "output_type": "execute_result",
          "data": {
            "text/plain": [
              "array([0.        , 0.16534698, 0.33069396, 0.49604095, 0.66138793,\n",
              "       0.82673491, 0.99208189, 1.15742887, 1.32277585, 1.48812284,\n",
              "       1.65346982, 1.8188168 , 1.98416378, 2.14951076, 2.31485774,\n",
              "       2.48020473, 2.64555171, 2.81089869, 2.97624567, 3.14159265])"
            ]
          },
          "metadata": {},
          "execution_count": 6
        }
      ]
    },
    {
      "cell_type": "code",
      "source": [
        "# We reuse the plotting code\n",
        "# We use the following code to plot this function\n",
        "# We don't need to understad all the code at this point.\n",
        "\n",
        "fig, ax = plt.subplots()\n",
        "ax.plot(x, y)\n",
        "ax.plot(x, z) # Added a second plot\n",
        "\n",
        "ax.set(xlabel='x', ylabel='y',\n",
        "       title='A $\\sin(x)$ and $\\cos(2 x)$ plot')\n",
        "ax.grid()\n",
        "\n",
        "#fig.savefig(\"test.png\")\n",
        "plt.show()\n"
      ],
      "metadata": {
        "colab": {
          "base_uri": "https://localhost:8080/",
          "height": 296
        },
        "id": "wDkupZEQfCH_",
        "outputId": "7e8b36df-f742-4bcb-c32b-d0f2f977cb87"
      },
      "execution_count": null,
      "outputs": [
        {
          "output_type": "display_data",
          "data": {
            "image/png": "[encoded data removed]",
            "text/plain": [
              "<Figure size 432x288 with 1 Axes>"
            ]
          },
          "metadata": {
            "needs_background": "light"
          }
        }
      ]
    },
    {
      "cell_type": "markdown",
      "source": [
        "Similar applies to:\n",
        "\n",
        "\n",
        "*   **Basic functions:**  x**2, np.pow(x,n), np.sqrt(x), np.abs(x), np.max(x), np.min(x), ...\n",
        "*   **Exponential and logarithmic functions:** np.$\\exp(x)$, np.$\\log(x)$, np.${\\log}{10(x)}$, ...\n",
        "*   **hyperbolic functions:** np.$\\sinh(x)$, np.$\\cosh(x)$, np.$\\tanh(x)$, ...\n",
        "\n",
        "\n"
      ],
      "metadata": {
        "id": "EvERP-EAqUYH"
      }
    },
    {
      "cell_type": "markdown",
      "source": [
        "For more Numpy information and examples, please visit the [NumPy Tutorial](https://numpy.org/devdocs/user/quickstart.html) and the user guide on [mathematical functions](https://numpy.org/doc/stable/reference/routines.math.html).\n"
      ],
      "metadata": {
        "id": "doa6d1Wzh0Hj"
      }
    },
    {
      "cell_type": "markdown",
      "source": [
        "# Basic Statistics"
      ],
      "metadata": {
        "id": "RO_oi3QYugss"
      }
    },
    {
      "cell_type": "markdown",
      "source": [
        "**Numpy also provides statistical functions.**\n",
        "\n",
        "With the [Statistics package](https://numpy.org/doc/stable/reference/routines.statistics.html), includes the common functions:\n",
        "weighted average, arithmetic mean, median, standard deviation, variance and others."
      ],
      "metadata": {
        "id": "4AnmSsTEuyLf"
      }
    },
    {
      "cell_type": "code",
      "source": [
        "# Uniform random number generator [0, 1), between 0 and 1, excluding 1.\n",
        "rng = np.random.default_rng()\n"
      ],
      "metadata": {
        "id": "w6mGjcZquoMp"
      },
      "execution_count": null,
      "outputs": []
    },
    {
      "cell_type": "code",
      "source": [
        "# Produce 1 random number\n",
        "x1 = rng.random()\n",
        "x1\n"
      ],
      "metadata": {
        "colab": {
          "base_uri": "https://localhost:8080/"
        },
        "id": "TocuC6RT0GIE",
        "outputId": "511fbf05-2e87-4128-82d0-9f41f644979f"
      },
      "execution_count": null,
      "outputs": [
        {
          "output_type": "execute_result",
          "data": {
            "text/plain": [
              "0.04433367760004692"
            ]
          },
          "metadata": {},
          "execution_count": 9
        }
      ]
    },
    {
      "cell_type": "code",
      "source": [
        "# Produce an arrar of 5 random numbers\n",
        "x5 = rng.random((5,))\n",
        "x5"
      ],
      "metadata": {
        "colab": {
          "base_uri": "https://localhost:8080/"
        },
        "id": "XYBLiYTi0Lhl",
        "outputId": "e7e34021-2b65-4170-8260-a6a4e30f5778"
      },
      "execution_count": null,
      "outputs": [
        {
          "output_type": "execute_result",
          "data": {
            "text/plain": [
              "array([0.8202697 , 0.315389  , 0.37770028, 0.02591717, 0.51668068])"
            ]
          },
          "metadata": {},
          "execution_count": 10
        }
      ]
    },
    {
      "cell_type": "code",
      "source": [
        "# Produce a random 3 rows and 2 columns array, with random values between -1 and 1.\n",
        "x23 = rng.random((3, 2)) - 1\n",
        "x23"
      ],
      "metadata": {
        "colab": {
          "base_uri": "https://localhost:8080/"
        },
        "id": "Y-ibXJbW0t4k",
        "outputId": "89f225ee-2d81-4961-88e3-ff5a5af0e8fb"
      },
      "execution_count": null,
      "outputs": [
        {
          "output_type": "execute_result",
          "data": {
            "text/plain": [
              "array([[-0.03836092, -0.82036594],\n",
              "       [-0.09156908, -0.15104162],\n",
              "       [-0.18367646, -0.62840636]])"
            ]
          },
          "metadata": {},
          "execution_count": 11
        }
      ]
    },
    {
      "cell_type": "code",
      "source": [
        "# Compute the mean, std dev and median\n",
        "x5_mean = np.mean(x5)\n",
        "x5_std = np.std(x5)\n",
        "x5_median = np.median(x5)\n",
        "print('x5 mean = ', x5_mean, ', stddev = ', x5_std, ', median = ', x5_median)\n"
      ],
      "metadata": {
        "colab": {
          "base_uri": "https://localhost:8080/"
        },
        "id": "pOFrZflV1Z5s",
        "outputId": "2ee7058a-41bd-499b-f838-0279de335944"
      },
      "execution_count": null,
      "outputs": [
        {
          "output_type": "stream",
          "name": "stdout",
          "text": [
            "x5 mean =  0.41119136566975933 , stddev =  0.2596956032241648 , median =  0.3777002771870772\n"
          ]
        }
      ]
    },
    {
      "cell_type": "markdown",
      "source": [
        "**Note:** Python starts counting at 0. So the x23 array, has rows 0,1,2 and columns 0,1.\n",
        "\n",
        "We show how to extract information from a multidimensional array."
      ],
      "metadata": {
        "id": "w_aZUxpI3XRV"
      }
    },
    {
      "cell_type": "code",
      "source": [
        "# To extract second column (i.e. column 1), we type\n",
        "x23[:,1]\n",
        "# where the : symbol means all rows"
      ],
      "metadata": {
        "colab": {
          "base_uri": "https://localhost:8080/"
        },
        "id": "5vHOiFz72lCF",
        "outputId": "4395f208-dc1e-4b80-9e8b-32a8c2fda5a7"
      },
      "execution_count": null,
      "outputs": [
        {
          "output_type": "execute_result",
          "data": {
            "text/plain": [
              "array([-0.82036594, -0.15104162, -0.62840636])"
            ]
          },
          "metadata": {},
          "execution_count": 13
        }
      ]
    },
    {
      "cell_type": "code",
      "source": [
        "# To extract the third row (i.e. row 1), we type\n",
        "x23[2,:]\n",
        "# where the : symbol means all colun¡mns in this case"
      ],
      "metadata": {
        "colab": {
          "base_uri": "https://localhost:8080/"
        },
        "id": "k1hTBmyS2y6G",
        "outputId": "96be3153-8b75-48cd-faae-599a1cbf8e03"
      },
      "execution_count": null,
      "outputs": [
        {
          "output_type": "execute_result",
          "data": {
            "text/plain": [
              "array([-0.18367646, -0.62840636])"
            ]
          },
          "metadata": {},
          "execution_count": 14
        }
      ]
    },
    {
      "cell_type": "code",
      "source": [
        "# To extract a specific value, for example third row and second column\n",
        "x23[2,1]\n"
      ],
      "metadata": {
        "colab": {
          "base_uri": "https://localhost:8080/"
        },
        "id": "DEe4HaXq4iy0",
        "outputId": "e877cd0e-fa0a-4f00-f007-78f6ba7953fc"
      },
      "execution_count": null,
      "outputs": [
        {
          "output_type": "execute_result",
          "data": {
            "text/plain": [
              "-0.628406362511734"
            ]
          },
          "metadata": {},
          "execution_count": 15
        }
      ]
    },
    {
      "cell_type": "markdown",
      "source": [
        "**Plotting a histogram**"
      ],
      "metadata": {
        "id": "tKnWDYIe_CZf"
      }
    },
    {
      "cell_type": "code",
      "source": [
        "# Will use a pseudorandom generator\n",
        "rng = np.random.default_rng()\n",
        "# Generate 200 random numbers of a Standard Gaussian distribution.\n",
        "a = rng.standard_normal(200)\n",
        "# Plot the histogram using Matplotlib hist function\n",
        "_ = plt.hist(a, bins='auto', facecolor='steelblue', alpha=0.75)\n",
        "plt.grid(True)\n",
        "plt.xlabel('Values')\n",
        "plt.ylabel('Frequency')\n",
        "plt.title('Histogram of Normal Distribution')\n",
        "plt.show()"
      ],
      "metadata": {
        "colab": {
          "base_uri": "https://localhost:8080/",
          "height": 295
        },
        "id": "1Ah5FiqR45-x",
        "outputId": "e44d85d5-b3d7-4dbb-f01d-da8b9505fb2e"
      },
      "execution_count": null,
      "outputs": [
        {
          "output_type": "display_data",
          "data": {
            "image/png": "[encoded data removed]",
            "text/plain": [
              "<Figure size 432x288 with 1 Axes>"
            ]
          },
          "metadata": {
            "needs_background": "light"
          }
        }
      ]
    },
    {
      "cell_type": "code",
      "source": [],
      "metadata": {
        "id": "lBu3f-en-nnk"
      },
      "execution_count": null,
      "outputs": []
    },
    {
      "cell_type": "markdown",
      "source": [
        "**Linear Regression (Least squares fit)**\n",
        "\n",
        "Lets design an artificial set of (x,y) values, simulating a random distributed set of points along a line.\n",
        "\n",
        "Numpy has a Least Squares fit function in its Linalg library.\n"
      ],
      "metadata": {
        "id": "TwXy2THgEAH3"
      }
    },
    {
      "cell_type": "code",
      "source": [
        "# Construct the experimental data\n",
        "# The y values are distributed along a straight line of slope 2 with +/- 5 error.\n",
        "\n",
        "x = np.linspace(0, 10, num=20, endpoint=True)\n",
        "y = 2*x + 5*rng.random((20,))\n",
        "y"
      ],
      "metadata": {
        "colab": {
          "base_uri": "https://localhost:8080/"
        },
        "id": "DEn2d_WxEmbh",
        "outputId": "80d52780-4bd6-4937-e917-fad3ddae514a"
      },
      "execution_count": null,
      "outputs": [
        {
          "output_type": "execute_result",
          "data": {
            "text/plain": [
              "array([ 3.56293282,  4.68292251,  4.03100172,  5.60205722,  4.69556361,\n",
              "        7.33084561,  9.73687011,  9.42778504, 10.19165055, 12.78674454,\n",
              "       14.95790092, 14.03008004, 15.59026856, 16.41844868, 15.7938505 ,\n",
              "       17.85751048, 18.75231021, 19.31542394, 19.17722251, 24.50679126])"
            ]
          },
          "metadata": {},
          "execution_count": 17
        }
      ]
    },
    {
      "cell_type": "markdown",
      "source": [
        "The least squares problem can be writen as\n",
        "\n",
        "$y = \\mathbf{A} p$,\n",
        "\n",
        "where\n",
        "\n",
        "$\\mathbf{A} = [[x \\ \\ 1]]$\n",
        "\n",
        "is the matrix composed by the x values and 1 values. And  $p = m,c$, is the constant parameter matrix where $m$ is the slope of the fitted line, and $c$ is the intersection point at $x=0$.\n"
      ],
      "metadata": {
        "id": "hIpmrvcjIb0c"
      }
    },
    {
      "cell_type": "code",
      "source": [
        "# We construct an array of array and transpose it.\n",
        "# This would be our experimental data sample.\n",
        "A = np.vstack([x, np.ones(len(x))]).T\n",
        "A"
      ],
      "metadata": {
        "colab": {
          "base_uri": "https://localhost:8080/"
        },
        "id": "78C6wM2tFGoI",
        "outputId": "7932eba1-0c70-48c6-9258-c126237a1590"
      },
      "execution_count": null,
      "outputs": [
        {
          "output_type": "execute_result",
          "data": {
            "text/plain": [
              "array([[ 0.        ,  1.        ],\n",
              "       [ 0.52631579,  1.        ],\n",
              "       [ 1.05263158,  1.        ],\n",
              "       [ 1.57894737,  1.        ],\n",
              "       [ 2.10526316,  1.        ],\n",
              "       [ 2.63157895,  1.        ],\n",
              "       [ 3.15789474,  1.        ],\n",
              "       [ 3.68421053,  1.        ],\n",
              "       [ 4.21052632,  1.        ],\n",
              "       [ 4.73684211,  1.        ],\n",
              "       [ 5.26315789,  1.        ],\n",
              "       [ 5.78947368,  1.        ],\n",
              "       [ 6.31578947,  1.        ],\n",
              "       [ 6.84210526,  1.        ],\n",
              "       [ 7.36842105,  1.        ],\n",
              "       [ 7.89473684,  1.        ],\n",
              "       [ 8.42105263,  1.        ],\n",
              "       [ 8.94736842,  1.        ],\n",
              "       [ 9.47368421,  1.        ],\n",
              "       [10.        ,  1.        ]])"
            ]
          },
          "metadata": {},
          "execution_count": 18
        }
      ]
    },
    {
      "cell_type": "code",
      "source": [
        "# We call the lstsq function from the Linear Algebra library of Numpy to solve for m and c.\n",
        "m, c = np.linalg.lstsq(A, y, rcond=None)[0]\n",
        "print('Linear fit: Slope m = ', m, ', and intersection point c = ', c)\n"
      ],
      "metadata": {
        "colab": {
          "base_uri": "https://localhost:8080/"
        },
        "id": "l1242u3gFITK",
        "outputId": "acb1fcee-031b-4d1f-8fe9-310d60337927"
      },
      "execution_count": null,
      "outputs": [
        {
          "output_type": "stream",
          "name": "stdout",
          "text": [
            "Linear fit: Slope m =  1.938249149426933 , and intersection point c =  2.7311632938535233\n"
          ]
        }
      ]
    },
    {
      "cell_type": "code",
      "source": [
        "# Plot the Least squares linear fit\n",
        "_ = plt.plot(x, y, 'o', label='Original data', markersize=6)\n",
        "_ = plt.plot(x, m*x + c, 'r', label='Fitted line')\n",
        "_ = plt.legend()\n",
        "plt.grid(True)\n",
        "plt.xlabel('x')\n",
        "plt.ylabel('Value')\n",
        "plt.title('Least squares fit')\n",
        "plt.show()\n"
      ],
      "metadata": {
        "colab": {
          "base_uri": "https://localhost:8080/",
          "height": 295
        },
        "id": "HTv5Fry_F-Hw",
        "outputId": "2af8c377-a543-4c65-9e5c-88d1aea20e9a"
      },
      "execution_count": null,
      "outputs": [
        {
          "output_type": "display_data",
          "data": {
            "image/png": "[encoded data removed]",
            "text/plain": [
              "<Figure size 432x288 with 1 Axes>"
            ]
          },
          "metadata": {
            "needs_background": "light"
          }
        }
      ]
    },
    {
      "cell_type": "code",
      "source": [],
      "metadata": {
        "id": "Ry5irVbnGm20"
      },
      "execution_count": null,
      "outputs": []
    }
  ]
}